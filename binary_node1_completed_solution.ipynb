{
 "cells": [
  {
   "cell_type": "code",
   "execution_count": 1,
   "metadata": {},
   "outputs": [],
   "source": [
    "class BinaryNode:\n",
    "    def __init__(self, value):\n",
    "        self.value = value\n",
    "        self.left = None\n",
    "        self.right = None\n",
    "\n",
    "    def add_left(self, child):\n",
    "        if isinstance(child, BinaryNode):\n",
    "            self.left = child\n",
    "        else:\n",
    "            self.left = BinaryNode(child)\n",
    "\n",
    "    def add_right(self, child):\n",
    "        if isinstance(child, BinaryNode):\n",
    "            self.right = child\n",
    "        else:\n",
    "            self.right = BinaryNode(child)\n",
    "\n",
    "    def __str__(self):\n",
    "        left_val = self.left.value if self.left else \"None\"\n",
    "        right_val = self.right.value if self.right else \"None\"\n",
    "        return f\"Node({self.value}): Left -> {left_val}, Right -> {right_val}\"\n"
   ]
  },
  {
   "cell_type": "code",
   "execution_count": 2,
   "metadata": {},
   "outputs": [],
   "source": [
    "# Build a test tree.\n",
    "#      Root\n",
    "#      /  \\\n",
    "#     A    B\n",
    "#    / \\    \\\n",
    "#   C   D    E\n",
    "#           /\n",
    "#          F\n",
    "\n",
    "# Creating nodes\n",
    "root = BinaryNode(\"Root\")\n",
    "a = BinaryNode(\"A\")\n",
    "b = BinaryNode(\"B\")\n",
    "c = BinaryNode(\"C\")\n",
    "d = BinaryNode(\"D\")\n",
    "e = BinaryNode(\"E\")\n",
    "f = BinaryNode(\"F\")\n",
    "\n",
    "# Establishing relationships\n",
    "root.add_left(a)\n",
    "root.add_right(b)\n",
    "a.add_left(c)\n",
    "a.add_right(d)\n",
    "b.add_right(e)\n",
    "e.add_left(f)\n"
   ]
  },
  {
   "cell_type": "code",
   "execution_count": 3,
   "metadata": {},
   "outputs": [
    {
     "name": "stdout",
     "output_type": "stream",
     "text": [
      "Node(Root): Left -> A, Right -> B\n",
      "Node(A): Left -> C, Right -> D\n",
      "Node(B): Left -> None, Right -> E\n",
      "Node(C): Left -> None, Right -> None\n",
      "Node(D): Left -> None, Right -> None\n",
      "Node(E): Left -> F, Right -> None\n",
      "Node(F): Left -> None, Right -> None\n"
     ]
    }
   ],
   "source": [
    "print(root)\n",
    "print(a)\n",
    "print(b)\n",
    "print(c)\n",
    "print(d)\n",
    "print(e)\n",
    "print(f)\n"
   ]
  }
 ],
 "metadata": {
  "kernelspec": {
   "display_name": "Python 3 (ipykernel)",
   "language": "python",
   "name": "python3"
  },
  "language_info": {
   "codemirror_mode": {
    "name": "ipython",
    "version": 3
   },
   "file_extension": ".py",
   "mimetype": "text/x-python",
   "name": "python",
   "nbconvert_exporter": "python",
   "pygments_lexer": "ipython3",
   "version": "3.12.7"
  }
 },
 "nbformat": 4,
 "nbformat_minor": 4
}
